{
 "cells": [
  {
   "cell_type": "code",
   "execution_count": 1,
   "metadata": {},
   "outputs": [],
   "source": [
    "import numpy as np\n",
    "import pandas as pd\n",
    "import scipy.stats as ss"
   ]
  },
  {
   "cell_type": "code",
   "execution_count": 2,
   "metadata": {},
   "outputs": [],
   "source": [
    "df = pd.read_csv('C:/Users/chuu/Documents/GitHub/Learning_Spoons_Third_Project/data/preprocessed.csv',index_col=0)"
   ]
  },
  {
   "cell_type": "code",
   "execution_count": 14,
   "metadata": {},
   "outputs": [],
   "source": [
    "df_2 = df[[ 'stays_in_week_nights', 'adults', 'children', 'babies', \n",
    "           'meal', 'country', 'market_segment', 'distribution_channel']]"
   ]
  },
  {
   "cell_type": "code",
   "execution_count": 11,
   "metadata": {},
   "outputs": [],
   "source": [
    "# 목표변수 카테고리화\n",
    "df['is_canceled'] = df['is_canceled'].astype('category')"
   ]
  },
  {
   "cell_type": "code",
   "execution_count": 18,
   "metadata": {},
   "outputs": [],
   "source": [
    "df_c = [ 'meal', 'country', 'market_segment', 'distribution_channel']"
   ]
  },
  {
   "cell_type": "code",
   "execution_count": 19,
   "metadata": {},
   "outputs": [],
   "source": [
    "# 입력변수를 카테고리화\n",
    "for i, x in enumerate(df_c):\n",
    "    df[x] = df[x].astype('category')"
   ]
  },
  {
   "cell_type": "code",
   "execution_count": 20,
   "metadata": {},
   "outputs": [
    {
     "data": {
      "text/plain": [
       "hotel                               object\n",
       "is_canceled                       category\n",
       "lead_time                            int64\n",
       "arrival_date_year                    int64\n",
       "arrival_date_month                  object\n",
       "arrival_date_week_number             int64\n",
       "arrival_date_day_of_month            int64\n",
       "stays_in_weekend_nights              int64\n",
       "stays_in_week_nights                 int64\n",
       "adults                               int64\n",
       "children                           float64\n",
       "babies                               int64\n",
       "meal                              category\n",
       "country                           category\n",
       "market_segment                    category\n",
       "distribution_channel              category\n",
       "is_repeated_guest                    int64\n",
       "previous_cancellations               int64\n",
       "previous_bookings_not_canceled       int64\n",
       "reserved_room_type                  object\n",
       "assigned_room_type                  object\n",
       "booking_changes                      int64\n",
       "deposit_type                        object\n",
       "agent                              float64\n",
       "days_in_waiting_list                 int64\n",
       "customer_type                       object\n",
       "adr                                float64\n",
       "required_car_parking_spaces          int64\n",
       "total_of_special_requests            int64\n",
       "reservation_status                  object\n",
       "reservation_status_date             object\n",
       "dtype: object"
      ]
     },
     "execution_count": 20,
     "metadata": {},
     "output_type": "execute_result"
    }
   ],
   "source": [
    "df.dtypes"
   ]
  },
  {
   "cell_type": "code",
   "execution_count": 23,
   "metadata": {},
   "outputs": [
    {
     "data": {
      "text/plain": [
       "hotel                             0\n",
       "is_canceled                       0\n",
       "lead_time                         0\n",
       "arrival_date_year                 0\n",
       "arrival_date_month                0\n",
       "arrival_date_week_number          0\n",
       "arrival_date_day_of_month         0\n",
       "stays_in_weekend_nights           0\n",
       "stays_in_week_nights              0\n",
       "adults                            0\n",
       "children                          0\n",
       "babies                            0\n",
       "meal                              0\n",
       "country                           0\n",
       "market_segment                    0\n",
       "distribution_channel              0\n",
       "is_repeated_guest                 0\n",
       "previous_cancellations            0\n",
       "previous_bookings_not_canceled    0\n",
       "reserved_room_type                0\n",
       "assigned_room_type                0\n",
       "booking_changes                   0\n",
       "deposit_type                      0\n",
       "agent                             0\n",
       "days_in_waiting_list              0\n",
       "customer_type                     0\n",
       "adr                               0\n",
       "required_car_parking_spaces       0\n",
       "total_of_special_requests         0\n",
       "reservation_status                0\n",
       "reservation_status_date           0\n",
       "dtype: int64"
      ]
     },
     "execution_count": 23,
     "metadata": {},
     "output_type": "execute_result"
    }
   ],
   "source": [
    "df.isnull().sum()"
   ]
  },
  {
   "cell_type": "code",
   "execution_count": 39,
   "metadata": {},
   "outputs": [
    {
     "name": "stdout",
     "output_type": "stream",
     "text": [
      "is_canceled meal 1.3212351959124216e-64\n",
      "is_canceled country 0.0\n",
      "is_canceled market_segment 0.0\n",
      "is_canceled distribution_channel 0.0\n"
     ]
    }
   ],
   "source": [
    "lst = [ 'meal', 'country', 'market_segment', 'distribution_channel']\n",
    "import scipy.stats as stats\n",
    "def chi(y,x='is_canceled'):\n",
    "    df_cr = pd.crosstab(df[x],df[y])\n",
    "    chi2, p , dof, ex = stats.chi2_contingency(df_cr,correction=False)\n",
    "    print(x,y,p)\n",
    "for i in lst:\n",
    "    chi(i)"
   ]
  },
  {
   "cell_type": "code",
   "execution_count": null,
   "metadata": {},
   "outputs": [],
   "source": [
    "# 유의확률이 전부 0에 가까우므로 귀무가설 기각. 목표변수에 영향을 미치는 입력변수들이다."
   ]
  }
 ],
 "metadata": {
  "kernelspec": {
   "display_name": "Python 3",
   "language": "python",
   "name": "python3"
  },
  "language_info": {
   "codemirror_mode": {
    "name": "ipython",
    "version": 3
   },
   "file_extension": ".py",
   "mimetype": "text/x-python",
   "name": "python",
   "nbconvert_exporter": "python",
   "pygments_lexer": "ipython3",
   "version": "3.7.6"
  },
  "toc": {
   "base_numbering": 1,
   "nav_menu": {},
   "number_sections": true,
   "sideBar": true,
   "skip_h1_title": false,
   "title_cell": "Table of Contents",
   "title_sidebar": "Contents",
   "toc_cell": false,
   "toc_position": {},
   "toc_section_display": true,
   "toc_window_display": false
  },
  "varInspector": {
   "cols": {
    "lenName": 16,
    "lenType": 16,
    "lenVar": 40
   },
   "kernels_config": {
    "python": {
     "delete_cmd_postfix": "",
     "delete_cmd_prefix": "del ",
     "library": "var_list.py",
     "varRefreshCmd": "print(var_dic_list())"
    },
    "r": {
     "delete_cmd_postfix": ") ",
     "delete_cmd_prefix": "rm(",
     "library": "var_list.r",
     "varRefreshCmd": "cat(var_dic_list()) "
    }
   },
   "types_to_exclude": [
    "module",
    "function",
    "builtin_function_or_method",
    "instance",
    "_Feature"
   ],
   "window_display": false
  }
 },
 "nbformat": 4,
 "nbformat_minor": 4
}
