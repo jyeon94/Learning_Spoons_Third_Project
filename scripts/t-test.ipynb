{
 "cells": [
  {
   "cell_type": "code",
   "execution_count": 1,
   "metadata": {},
   "outputs": [],
   "source": [
    "import pandas as pd\n",
    "from scipy import stats"
   ]
  },
  {
   "cell_type": "code",
   "execution_count": 2,
   "metadata": {},
   "outputs": [],
   "source": [
    "df = pd.read_csv('../data/preprocessed.csv',index_col=0)"
   ]
  },
  {
   "cell_type": "code",
   "execution_count": 4,
   "metadata": {},
   "outputs": [],
   "source": [
    "df_0 = df.loc[df['is_canceled']==0,['lead_time','adr','days_in_waiting_list','total_of_special_requests']].copy()\n",
    "df_1 = df.loc[df['is_canceled']==1,['lead_time','adr','days_in_waiting_list','total_of_special_requests']].copy()"
   ]
  },
  {
   "cell_type": "code",
   "execution_count": 10,
   "metadata": {},
   "outputs": [],
   "source": [
    "def t_test(x,y):\n",
    "    lresult=stats.levene(x,y)\n",
    "    print('LeveneResult(F):{:.3f}\\np-value:{:.3f}'.format(lresult.statistic,lresult.pvalue))\n",
    "    if round(lresult.pvalue,2) < 0.05:\n",
    "        result = stats.ttest_ind(x,y,equal_var=False)\n",
    "    else:\n",
    "        result = stats.ttest_ind(x,y,equal_var=True)\n",
    "    print('t-testResult(F):{:.3f}\\np-value:{:.3f}'.format(result.statistic,result.pvalue))"
   ]
  },
  {
   "cell_type": "code",
   "execution_count": 11,
   "metadata": {},
   "outputs": [],
   "source": [
    "col_lst = ['lead_time','adr','days_in_waiting_list','total_of_special_requests']"
   ]
  },
  {
   "cell_type": "code",
   "execution_count": 12,
   "metadata": {},
   "outputs": [
    {
     "name": "stdout",
     "output_type": "stream",
     "text": [
      "lead_time\n",
      "LeveneResult(F):3601.800\n",
      "p-value:0.000\n",
      "t-testResult(F):-99.075\n",
      "p-value:0.000\n",
      "adr\n",
      "LeveneResult(F):105.482\n",
      "p-value:0.000\n",
      "t-testResult(F):-16.171\n",
      "p-value:0.000\n",
      "days_in_waiting_list\n",
      "LeveneResult(F):351.568\n",
      "p-value:0.000\n",
      "t-testResult(F):-17.087\n",
      "p-value:0.000\n",
      "total_of_special_requests\n",
      "LeveneResult(F):10696.542\n",
      "p-value:0.000\n",
      "t-testResult(F):88.890\n",
      "p-value:0.000\n"
     ]
    }
   ],
   "source": [
    "for i in col_lst:\n",
    "    print(i)\n",
    "    t_test(df_0[i],df_1[i])"
   ]
  }
 ],
 "metadata": {
  "kernelspec": {
   "display_name": "Python 3",
   "language": "python",
   "name": "python3"
  },
  "language_info": {
   "codemirror_mode": {
    "name": "ipython",
    "version": 3
   },
   "file_extension": ".py",
   "mimetype": "text/x-python",
   "name": "python",
   "nbconvert_exporter": "python",
   "pygments_lexer": "ipython3",
   "version": "3.7.6"
  },
  "toc": {
   "base_numbering": 1,
   "nav_menu": {},
   "number_sections": true,
   "sideBar": true,
   "skip_h1_title": false,
   "title_cell": "Table of Contents",
   "title_sidebar": "Contents",
   "toc_cell": false,
   "toc_position": {},
   "toc_section_display": true,
   "toc_window_display": false
  },
  "varInspector": {
   "cols": {
    "lenName": 16,
    "lenType": 16,
    "lenVar": 40
   },
   "kernels_config": {
    "python": {
     "delete_cmd_postfix": "",
     "delete_cmd_prefix": "del ",
     "library": "var_list.py",
     "varRefreshCmd": "print(var_dic_list())"
    },
    "r": {
     "delete_cmd_postfix": ") ",
     "delete_cmd_prefix": "rm(",
     "library": "var_list.r",
     "varRefreshCmd": "cat(var_dic_list()) "
    }
   },
   "types_to_exclude": [
    "module",
    "function",
    "builtin_function_or_method",
    "instance",
    "_Feature"
   ],
   "window_display": false
  }
 },
 "nbformat": 4,
 "nbformat_minor": 4
}
